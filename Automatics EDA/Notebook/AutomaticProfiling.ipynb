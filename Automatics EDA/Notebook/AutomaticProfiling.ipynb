{
 "cells": [
  {
   "cell_type": "code",
   "execution_count": 14,
   "metadata": {},
   "outputs": [
    {
     "name": "stdout",
     "output_type": "stream",
     "text": [
      "Requirement already satisfied: ydata-profiling in c:\\python310\\lib\\site-packages (4.6.3)\n",
      "Requirement already satisfied: scipy<1.12,>=1.4.1 in c:\\python310\\lib\\site-packages (from ydata-profiling) (1.9.3)\n",
      "Requirement already satisfied: pandas!=1.4.0,<3,>1.1 in c:\\python310\\lib\\site-packages (from ydata-profiling) (1.5.1)\n",
      "Requirement already satisfied: matplotlib<3.9,>=3.2 in c:\\python310\\lib\\site-packages (from ydata-profiling) (3.6.0)\n",
      "Requirement already satisfied: pydantic>=2 in c:\\python310\\lib\\site-packages (from ydata-profiling) (2.5.2)\n",
      "Requirement already satisfied: PyYAML<6.1,>=5.0.0 in c:\\python310\\lib\\site-packages (from ydata-profiling) (6.0.1)\n",
      "Requirement already satisfied: jinja2<3.2,>=2.11.1 in c:\\python310\\lib\\site-packages (from ydata-profiling) (3.1.2)\n",
      "Requirement already satisfied: visions==0.7.5 in c:\\python310\\lib\\site-packages (from visions[type_image_path]==0.7.5->ydata-profiling) (0.7.5)\n",
      "Requirement already satisfied: numpy<1.26,>=1.16.0 in c:\\python310\\lib\\site-packages (from ydata-profiling) (1.23.1)\n",
      "Requirement already satisfied: htmlmin==0.1.12 in c:\\python310\\lib\\site-packages (from ydata-profiling) (0.1.12)\n",
      "Requirement already satisfied: phik<0.13,>=0.11.1 in c:\\python310\\lib\\site-packages (from ydata-profiling) (0.12.3)\n",
      "Requirement already satisfied: requests<3,>=2.24.0 in c:\\python310\\lib\\site-packages (from ydata-profiling) (2.29.0)\n",
      "Requirement already satisfied: tqdm<5,>=4.48.2 in c:\\python310\\lib\\site-packages (from ydata-profiling) (4.66.1)\n",
      "Requirement already satisfied: seaborn<0.13,>=0.10.1 in c:\\python310\\lib\\site-packages (from ydata-profiling) (0.12.1)\n",
      "Requirement already satisfied: multimethod<2,>=1.4 in c:\\python310\\lib\\site-packages (from ydata-profiling) (1.10)\n",
      "Requirement already satisfied: statsmodels<1,>=0.13.2 in c:\\python310\\lib\\site-packages (from ydata-profiling) (0.14.1)\n",
      "Requirement already satisfied: typeguard<5,>=4.1.2 in c:\\python310\\lib\\site-packages (from ydata-profiling) (4.1.5)\n",
      "Requirement already satisfied: imagehash==4.3.1 in c:\\python310\\lib\\site-packages (from ydata-profiling) (4.3.1)\n",
      "Requirement already satisfied: wordcloud>=1.9.1 in c:\\python310\\lib\\site-packages (from ydata-profiling) (1.9.3)\n",
      "Requirement already satisfied: dacite>=1.8 in c:\\python310\\lib\\site-packages (from ydata-profiling) (1.8.1)\n",
      "Requirement already satisfied: numba<0.59.0,>=0.56.0 in c:\\python310\\lib\\site-packages (from ydata-profiling) (0.58.1)\n",
      "Requirement already satisfied: PyWavelets in c:\\python310\\lib\\site-packages (from imagehash==4.3.1->ydata-profiling) (1.5.0)\n",
      "Requirement already satisfied: pillow in c:\\python310\\lib\\site-packages (from imagehash==4.3.1->ydata-profiling) (9.2.0)\n",
      "Requirement already satisfied: attrs>=19.3.0 in c:\\python310\\lib\\site-packages (from visions==0.7.5->visions[type_image_path]==0.7.5->ydata-profiling) (22.1.0)\n",
      "Requirement already satisfied: networkx>=2.4 in c:\\python310\\lib\\site-packages (from visions==0.7.5->visions[type_image_path]==0.7.5->ydata-profiling) (2.8.8)\n",
      "Requirement already satisfied: tangled-up-in-unicode>=0.0.4 in c:\\python310\\lib\\site-packages (from visions==0.7.5->visions[type_image_path]==0.7.5->ydata-profiling) (0.2.0)\n",
      "Requirement already satisfied: MarkupSafe>=2.0 in c:\\python310\\lib\\site-packages (from jinja2<3.2,>=2.11.1->ydata-profiling) (2.1.1)\n",
      "Requirement already satisfied: contourpy>=1.0.1 in c:\\python310\\lib\\site-packages (from matplotlib<3.9,>=3.2->ydata-profiling) (1.0.5)\n",
      "Requirement already satisfied: cycler>=0.10 in c:\\python310\\lib\\site-packages (from matplotlib<3.9,>=3.2->ydata-profiling) (0.11.0)\n",
      "Requirement already satisfied: fonttools>=4.22.0 in c:\\python310\\lib\\site-packages (from matplotlib<3.9,>=3.2->ydata-profiling) (4.38.0)\n",
      "Requirement already satisfied: kiwisolver>=1.0.1 in c:\\python310\\lib\\site-packages (from matplotlib<3.9,>=3.2->ydata-profiling) (1.4.4)\n",
      "Requirement already satisfied: packaging>=20.0 in c:\\python310\\lib\\site-packages (from matplotlib<3.9,>=3.2->ydata-profiling) (21.3)\n",
      "Requirement already satisfied: pyparsing>=2.2.1 in c:\\python310\\lib\\site-packages (from matplotlib<3.9,>=3.2->ydata-profiling) (3.0.9)\n",
      "Requirement already satisfied: python-dateutil>=2.7 in c:\\python310\\lib\\site-packages (from matplotlib<3.9,>=3.2->ydata-profiling) (2.8.2)\n",
      "Requirement already satisfied: llvmlite<0.42,>=0.41.0dev0 in c:\\python310\\lib\\site-packages (from numba<0.59.0,>=0.56.0->ydata-profiling) (0.41.1)\n",
      "Requirement already satisfied: pytz>=2020.1 in c:\\python310\\lib\\site-packages (from pandas!=1.4.0,<3,>1.1->ydata-profiling) (2022.5)\n",
      "Requirement already satisfied: joblib>=0.14.1 in c:\\python310\\lib\\site-packages (from phik<0.13,>=0.11.1->ydata-profiling) (1.2.0)\n",
      "Requirement already satisfied: annotated-types>=0.4.0 in c:\\python310\\lib\\site-packages (from pydantic>=2->ydata-profiling) (0.6.0)\n",
      "Requirement already satisfied: pydantic-core==2.14.5 in c:\\python310\\lib\\site-packages (from pydantic>=2->ydata-profiling) (2.14.5)\n",
      "Requirement already satisfied: typing-extensions>=4.6.1 in c:\\python310\\lib\\site-packages (from pydantic>=2->ydata-profiling) (4.9.0)\n",
      "Requirement already satisfied: charset-normalizer<4,>=2 in c:\\python310\\lib\\site-packages (from requests<3,>=2.24.0->ydata-profiling) (3.1.0)\n",
      "Requirement already satisfied: idna<4,>=2.5 in c:\\python310\\lib\\site-packages (from requests<3,>=2.24.0->ydata-profiling) (3.4)\n",
      "Requirement already satisfied: urllib3<1.27,>=1.21.1 in c:\\python310\\lib\\site-packages (from requests<3,>=2.24.0->ydata-profiling) (1.26.15)\n",
      "Requirement already satisfied: certifi>=2017.4.17 in c:\\python310\\lib\\site-packages (from requests<3,>=2.24.0->ydata-profiling) (2022.12.7)\n",
      "Requirement already satisfied: patsy>=0.5.4 in c:\\python310\\lib\\site-packages (from statsmodels<1,>=0.13.2->ydata-profiling) (0.5.4)\n",
      "Requirement already satisfied: colorama in c:\\python310\\lib\\site-packages (from tqdm<5,>=4.48.2->ydata-profiling) (0.4.5)\n",
      "Requirement already satisfied: six in c:\\python310\\lib\\site-packages (from patsy>=0.5.4->statsmodels<1,>=0.13.2->ydata-profiling) (1.16.0)\n",
      "Note: you may need to restart the kernel to use updated packages.\n"
     ]
    },
    {
     "name": "stderr",
     "output_type": "stream",
     "text": [
      "WARNING: visions 0.7.5 does not provide the extra 'type-image-path'\n"
     ]
    }
   ],
   "source": [
    "%pip install ydata-profiling"
   ]
  },
  {
   "cell_type": "code",
   "execution_count": 16,
   "metadata": {},
   "outputs": [],
   "source": [
    "from ydata_profiling import ProfileReport\n",
    "import pandas as pd"
   ]
  },
  {
   "cell_type": "code",
   "execution_count": 3,
   "metadata": {},
   "outputs": [],
   "source": [
    "import seaborn as sns"
   ]
  },
  {
   "cell_type": "code",
   "execution_count": 19,
   "metadata": {},
   "outputs": [],
   "source": [
    "df=sns.load_dataset(\"tips\")"
   ]
  },
  {
   "cell_type": "code",
   "execution_count": 20,
   "metadata": {},
   "outputs": [
    {
     "data": {
      "text/html": [
       "<div>\n",
       "<style scoped>\n",
       "    .dataframe tbody tr th:only-of-type {\n",
       "        vertical-align: middle;\n",
       "    }\n",
       "\n",
       "    .dataframe tbody tr th {\n",
       "        vertical-align: top;\n",
       "    }\n",
       "\n",
       "    .dataframe thead th {\n",
       "        text-align: right;\n",
       "    }\n",
       "</style>\n",
       "<table border=\"1\" class=\"dataframe\">\n",
       "  <thead>\n",
       "    <tr style=\"text-align: right;\">\n",
       "      <th></th>\n",
       "      <th>total_bill</th>\n",
       "      <th>tip</th>\n",
       "      <th>sex</th>\n",
       "      <th>smoker</th>\n",
       "      <th>day</th>\n",
       "      <th>time</th>\n",
       "      <th>size</th>\n",
       "    </tr>\n",
       "  </thead>\n",
       "  <tbody>\n",
       "    <tr>\n",
       "      <th>0</th>\n",
       "      <td>16.99</td>\n",
       "      <td>1.01</td>\n",
       "      <td>Female</td>\n",
       "      <td>No</td>\n",
       "      <td>Sun</td>\n",
       "      <td>Dinner</td>\n",
       "      <td>2</td>\n",
       "    </tr>\n",
       "    <tr>\n",
       "      <th>1</th>\n",
       "      <td>10.34</td>\n",
       "      <td>1.66</td>\n",
       "      <td>Male</td>\n",
       "      <td>No</td>\n",
       "      <td>Sun</td>\n",
       "      <td>Dinner</td>\n",
       "      <td>3</td>\n",
       "    </tr>\n",
       "    <tr>\n",
       "      <th>2</th>\n",
       "      <td>21.01</td>\n",
       "      <td>3.50</td>\n",
       "      <td>Male</td>\n",
       "      <td>No</td>\n",
       "      <td>Sun</td>\n",
       "      <td>Dinner</td>\n",
       "      <td>3</td>\n",
       "    </tr>\n",
       "    <tr>\n",
       "      <th>3</th>\n",
       "      <td>23.68</td>\n",
       "      <td>3.31</td>\n",
       "      <td>Male</td>\n",
       "      <td>No</td>\n",
       "      <td>Sun</td>\n",
       "      <td>Dinner</td>\n",
       "      <td>2</td>\n",
       "    </tr>\n",
       "  </tbody>\n",
       "</table>\n",
       "</div>"
      ],
      "text/plain": [
       "   total_bill   tip     sex smoker  day    time  size\n",
       "0       16.99  1.01  Female     No  Sun  Dinner     2\n",
       "1       10.34  1.66    Male     No  Sun  Dinner     3\n",
       "2       21.01  3.50    Male     No  Sun  Dinner     3\n",
       "3       23.68  3.31    Male     No  Sun  Dinner     2"
      ]
     },
     "execution_count": 20,
     "metadata": {},
     "output_type": "execute_result"
    }
   ],
   "source": [
    "df.head(4)"
   ]
  },
  {
   "cell_type": "code",
   "execution_count": 21,
   "metadata": {},
   "outputs": [],
   "source": [
    "profile=ProfileReport(df,explorative=True,dark_mode=True)"
   ]
  },
  {
   "cell_type": "code",
   "execution_count": 22,
   "metadata": {},
   "outputs": [
    {
     "data": {
      "application/vnd.jupyter.widget-view+json": {
       "model_id": "3faa56df2957417a94c342a3e79e8aad",
       "version_major": 2,
       "version_minor": 0
      },
      "text/plain": [
       "Summarize dataset:   0%|          | 0/5 [00:00<?, ?it/s]"
      ]
     },
     "metadata": {},
     "output_type": "display_data"
    },
    {
     "name": "stderr",
     "output_type": "stream",
     "text": [
      "c:\\Python310\\lib\\site-packages\\ydata_profiling\\model\\pandas\\discretize_pandas.py:52: FutureWarning: In a future version, `df.iloc[:, i] = newvals` will attempt to set the values inplace instead of always setting a new array. To retain the old behavior, use either `df[df.columns[i]] = newvals` or, if columns are non-unique, `df.isetitem(i, newvals)`\n",
      "  discretized_df.loc[:, column] = self._discretize_column(\n",
      "c:\\Python310\\lib\\site-packages\\scipy\\stats\\_stats_py.py:112: RuntimeWarning: The input array could not be properly checked for nan values. nan values will be ignored.\n",
      "  warnings.warn(\"The input array could not be properly \"\n",
      "c:\\Python310\\lib\\site-packages\\scipy\\stats\\_stats_py.py:112: RuntimeWarning: The input array could not be properly checked for nan values. nan values will be ignored.\n",
      "  warnings.warn(\"The input array could not be properly \"\n",
      "c:\\Python310\\lib\\site-packages\\scipy\\stats\\_stats_py.py:112: RuntimeWarning: The input array could not be properly checked for nan values. nan values will be ignored.\n",
      "  warnings.warn(\"The input array could not be properly \"\n",
      "c:\\Python310\\lib\\site-packages\\scipy\\stats\\_stats_py.py:112: RuntimeWarning: The input array could not be properly checked for nan values. nan values will be ignored.\n",
      "  warnings.warn(\"The input array could not be properly \"\n"
     ]
    },
    {
     "data": {
      "application/vnd.jupyter.widget-view+json": {
       "model_id": "dde7a1e3378a429995801d5871325830",
       "version_major": 2,
       "version_minor": 0
      },
      "text/plain": [
       "Generate report structure:   0%|          | 0/1 [00:00<?, ?it/s]"
      ]
     },
     "metadata": {},
     "output_type": "display_data"
    },
    {
     "data": {
      "application/vnd.jupyter.widget-view+json": {
       "model_id": "aa06d4121c9d4ff992e2edcbde507f1a",
       "version_major": 2,
       "version_minor": 0
      },
      "text/plain": [
       "Render HTML:   0%|          | 0/1 [00:00<?, ?it/s]"
      ]
     },
     "metadata": {},
     "output_type": "display_data"
    },
    {
     "data": {
      "application/vnd.jupyter.widget-view+json": {
       "model_id": "6e19eaa0631a4d64bbf3b303e48487a0",
       "version_major": 2,
       "version_minor": 0
      },
      "text/plain": [
       "Export report to file:   0%|          | 0/1 [00:00<?, ?it/s]"
      ]
     },
     "metadata": {},
     "output_type": "display_data"
    }
   ],
   "source": [
    "profile.to_file(\"output.html\")"
   ]
  },
  {
   "cell_type": "code",
   "execution_count": 24,
   "metadata": {},
   "outputs": [
    {
     "name": "stdout",
     "output_type": "stream",
     "text": [
      "Collecting dtale\n",
      "  Using cached dtale-3.9.0-py2.py3-none-any.whl.metadata (16 kB)\n",
      "Requirement already satisfied: dash-colorscales in c:\\python310\\lib\\site-packages (from dtale) (0.0.4)\n",
      "Collecting dash-daq (from dtale)\n",
      "  Using cached dash_daq-0.5.0-py3-none-any.whl\n",
      "Collecting Flask-Compress (from dtale)\n",
      "  Using cached Flask_Compress-1.14-py3-none-any.whl.metadata (7.8 kB)\n",
      "Requirement already satisfied: future>=0.14.0 in c:\\python310\\lib\\site-packages (from dtale) (0.18.3)\n",
      "Requirement already satisfied: kaleido in c:\\python310\\lib\\site-packages (from dtale) (0.2.1)\n",
      "Collecting missingno (from dtale)\n",
      "  Using cached missingno-0.5.2-py3-none-any.whl (8.7 kB)\n",
      "Requirement already satisfied: pandas in c:\\python310\\lib\\site-packages (from dtale) (1.5.1)\n",
      "Requirement already satisfied: squarify in c:\\python310\\lib\\site-packages (from dtale) (0.4.3)\n",
      "Requirement already satisfied: strsimpy in c:\\python310\\lib\\site-packages (from dtale) (0.2.1)\n",
      "Requirement already satisfied: six in c:\\python310\\lib\\site-packages (from dtale) (1.16.0)\n",
      "Requirement already satisfied: xlrd in c:\\python310\\lib\\site-packages (from dtale) (2.0.1)\n",
      "Requirement already satisfied: beautifulsoup4 in c:\\python310\\lib\\site-packages (from dtale) (4.11.1)\n",
      "Requirement already satisfied: certifi in c:\\python310\\lib\\site-packages (from dtale) (2022.12.7)\n",
      "Collecting flask-ngrok (from dtale)\n",
      "  Using cached flask_ngrok-0.0.25-py3-none-any.whl (3.1 kB)\n",
      "Requirement already satisfied: lz4 in c:\\python310\\lib\\site-packages (from dtale) (4.3.3)\n",
      "Requirement already satisfied: cycler in c:\\python310\\lib\\site-packages (from dtale) (0.11.0)\n",
      "Collecting dash-bootstrap-components<=1.3.1 (from dtale)\n",
      "  Using cached dash_bootstrap_components-1.3.1-py3-none-any.whl (219 kB)\n",
      "Collecting dash (from dtale)\n",
      "  Using cached dash-2.14.2-py3-none-any.whl.metadata (11 kB)\n",
      "Requirement already satisfied: seaborn in c:\\python310\\lib\\site-packages (from dtale) (0.12.1)\n",
      "Requirement already satisfied: statsmodels in c:\\python310\\lib\\site-packages (from dtale) (0.14.1)\n",
      "Requirement already satisfied: werkzeug in c:\\python310\\lib\\site-packages (from dtale) (3.0.1)\n",
      "Requirement already satisfied: networkx in c:\\python310\\lib\\site-packages (from dtale) (2.8.8)\n",
      "Requirement already satisfied: scikit-learn in c:\\python310\\lib\\site-packages (from dtale) (1.1.3)\n",
      "Requirement already satisfied: numpy in c:\\python310\\lib\\site-packages (from dtale) (1.23.1)\n",
      "Requirement already satisfied: openpyxl!=3.2.0b1 in c:\\python310\\lib\\site-packages (from dtale) (3.1.2)\n",
      "Collecting xarray (from dtale)\n",
      "  Using cached xarray-2023.12.0-py3-none-any.whl.metadata (11 kB)\n",
      "Requirement already satisfied: et-xmlfile in c:\\python310\\lib\\site-packages (from dtale) (1.1.0)\n",
      "Requirement already satisfied: plotly in c:\\python310\\lib\\site-packages (from dtale) (5.18.0)\n",
      "Collecting Flask<2.3 (from dtale)\n",
      "  Using cached Flask-2.2.5-py3-none-any.whl (101 kB)\n",
      "Requirement already satisfied: itsdangerous in c:\\python310\\lib\\site-packages (from dtale) (2.1.2)\n",
      "Requirement already satisfied: requests in c:\\python310\\lib\\site-packages (from dtale) (2.29.0)\n",
      "Requirement already satisfied: contourpy in c:\\python310\\lib\\site-packages (from dtale) (1.0.5)\n",
      "Requirement already satisfied: matplotlib in c:\\python310\\lib\\site-packages (from dtale) (3.6.0)\n",
      "Requirement already satisfied: scipy!=1.12.0rc1 in c:\\python310\\lib\\site-packages (from dtale) (1.9.3)\n",
      "Requirement already satisfied: dash-html-components==2.0.0 in c:\\python310\\lib\\site-packages (from dash->dtale) (2.0.0)\n",
      "Requirement already satisfied: dash-core-components==2.0.0 in c:\\python310\\lib\\site-packages (from dash->dtale) (2.0.0)\n",
      "Requirement already satisfied: dash-table==5.0.0 in c:\\python310\\lib\\site-packages (from dash->dtale) (5.0.0)\n",
      "Requirement already satisfied: typing-extensions>=4.1.1 in c:\\python310\\lib\\site-packages (from dash->dtale) (4.9.0)\n",
      "Requirement already satisfied: retrying in c:\\python310\\lib\\site-packages (from dash->dtale) (1.3.4)\n",
      "Requirement already satisfied: ansi2html in c:\\python310\\lib\\site-packages (from dash->dtale) (1.9.1)\n",
      "Requirement already satisfied: nest-asyncio in c:\\python310\\lib\\site-packages (from dash->dtale) (1.5.5)\n",
      "Requirement already satisfied: setuptools in c:\\python310\\lib\\site-packages (from dash->dtale) (63.2.0)\n",
      "Collecting importlib-metadata (from dash->dtale)\n",
      "  Using cached importlib_metadata-7.0.1-py3-none-any.whl.metadata (4.9 kB)\n",
      "Requirement already satisfied: Jinja2>=3.0 in c:\\python310\\lib\\site-packages (from Flask<2.3->dtale) (3.1.2)\n",
      "Requirement already satisfied: click>=8.0 in c:\\python310\\lib\\site-packages (from Flask<2.3->dtale) (8.1.3)\n",
      "Requirement already satisfied: tenacity>=6.2.0 in c:\\python310\\lib\\site-packages (from plotly->dtale) (8.2.3)\n",
      "Requirement already satisfied: packaging in c:\\python310\\lib\\site-packages (from plotly->dtale) (21.3)\n",
      "Requirement already satisfied: MarkupSafe>=2.1.1 in c:\\python310\\lib\\site-packages (from werkzeug->dtale) (2.1.1)\n",
      "Requirement already satisfied: soupsieve>1.2 in c:\\python310\\lib\\site-packages (from beautifulsoup4->dtale) (2.3.2.post1)\n",
      "Requirement already satisfied: brotli in c:\\python310\\lib\\site-packages (from Flask-Compress->dtale) (1.1.0)\n",
      "Requirement already satisfied: fonttools>=4.22.0 in c:\\python310\\lib\\site-packages (from matplotlib->dtale) (4.38.0)\n",
      "Requirement already satisfied: kiwisolver>=1.0.1 in c:\\python310\\lib\\site-packages (from matplotlib->dtale) (1.4.4)\n",
      "Requirement already satisfied: pillow>=6.2.0 in c:\\python310\\lib\\site-packages (from matplotlib->dtale) (9.2.0)\n",
      "Requirement already satisfied: pyparsing>=2.2.1 in c:\\python310\\lib\\site-packages (from matplotlib->dtale) (3.0.9)\n",
      "Requirement already satisfied: python-dateutil>=2.7 in c:\\python310\\lib\\site-packages (from matplotlib->dtale) (2.8.2)\n",
      "Requirement already satisfied: pytz>=2020.1 in c:\\python310\\lib\\site-packages (from pandas->dtale) (2022.5)\n",
      "Requirement already satisfied: charset-normalizer<4,>=2 in c:\\python310\\lib\\site-packages (from requests->dtale) (3.1.0)\n",
      "Requirement already satisfied: idna<4,>=2.5 in c:\\python310\\lib\\site-packages (from requests->dtale) (3.4)\n",
      "Requirement already satisfied: urllib3<1.27,>=1.21.1 in c:\\python310\\lib\\site-packages (from requests->dtale) (1.26.15)\n",
      "Requirement already satisfied: joblib>=1.0.0 in c:\\python310\\lib\\site-packages (from scikit-learn->dtale) (1.2.0)\n",
      "Requirement already satisfied: threadpoolctl>=2.0.0 in c:\\python310\\lib\\site-packages (from scikit-learn->dtale) (3.1.0)\n",
      "Requirement already satisfied: patsy>=0.5.4 in c:\\python310\\lib\\site-packages (from statsmodels->dtale) (0.5.4)\n",
      "Requirement already satisfied: colorama in c:\\python310\\lib\\site-packages (from click>=8.0->Flask<2.3->dtale) (0.4.5)\n",
      "Requirement already satisfied: zipp>=0.5 in c:\\python310\\lib\\site-packages (from importlib-metadata->dash->dtale) (3.17.0)\n",
      "Using cached dtale-3.9.0-py2.py3-none-any.whl (14.2 MB)\n",
      "Using cached dash-2.14.2-py3-none-any.whl (10.2 MB)\n",
      "Using cached Flask_Compress-1.14-py3-none-any.whl (8.4 kB)\n",
      "Using cached xarray-2023.12.0-py3-none-any.whl (1.1 MB)\n",
      "Using cached importlib_metadata-7.0.1-py3-none-any.whl (23 kB)\n",
      "Installing collected packages: importlib-metadata, Flask, xarray, flask-ngrok, Flask-Compress, dash, missingno, dash-daq, dash-bootstrap-components, dtale\n",
      "Successfully installed Flask-2.2.5 Flask-Compress-1.14 dash-2.14.2 dash-bootstrap-components-1.3.1 dash-daq-0.5.0 dtale-3.9.0 flask-ngrok-0.0.25 importlib-metadata-7.0.1 missingno-0.5.2 xarray-2023.12.0\n",
      "Note: you may need to restart the kernel to use updated packages.\n"
     ]
    }
   ],
   "source": [
    "%pip install dtale"
   ]
  },
  {
   "cell_type": "code",
   "execution_count": 4,
   "metadata": {},
   "outputs": [],
   "source": [
    "df_titanic=sns.load_dataset(\"titanic\")"
   ]
  },
  {
   "cell_type": "code",
   "execution_count": 5,
   "metadata": {},
   "outputs": [
    {
     "name": "stderr",
     "output_type": "stream",
     "text": [
      "c:\\Python310\\lib\\site-packages\\dtale\\views.py:798: FutureWarning:\n",
      "\n",
      "['embarked', 'class', 'deck', 'embark_town'] did not aggregate successfully. If any error is raised this will raise in a future version of pandas. Drop these columns/ops to avoid this warning.\n",
      "\n"
     ]
    },
    {
     "data": {
      "text/html": [
       "\n",
       "        <iframe\n",
       "            width=\"100%\"\n",
       "            height=\"475\"\n",
       "            src=\"http://LAPTOP-AKOTKGVB:40000/dtale/iframe/1\"\n",
       "            frameborder=\"0\"\n",
       "            allowfullscreen\n",
       "            \n",
       "        ></iframe>\n",
       "        "
      ],
      "text/plain": [
       "<IPython.lib.display.IFrame at 0x261ba40ef50>"
      ]
     },
     "metadata": {},
     "output_type": "display_data"
    },
    {
     "data": {
      "text/plain": []
     },
     "execution_count": 5,
     "metadata": {},
     "output_type": "execute_result"
    }
   ],
   "source": [
    "import dtale\n",
    "dtale.show(df_titanic)"
   ]
  }
 ],
 "metadata": {
  "kernelspec": {
   "display_name": "Python 3",
   "language": "python",
   "name": "python3"
  },
  "language_info": {
   "codemirror_mode": {
    "name": "ipython",
    "version": 3
   },
   "file_extension": ".py",
   "mimetype": "text/x-python",
   "name": "python",
   "nbconvert_exporter": "python",
   "pygments_lexer": "ipython3",
   "version": "3.10.6"
  },
  "orig_nbformat": 4
 },
 "nbformat": 4,
 "nbformat_minor": 2
}
