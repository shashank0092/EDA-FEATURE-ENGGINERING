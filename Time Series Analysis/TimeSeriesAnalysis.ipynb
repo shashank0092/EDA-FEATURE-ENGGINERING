{
 "cells": [
  {
   "cell_type": "code",
   "execution_count": 2,
   "metadata": {},
   "outputs": [
    {
     "name": "stdout",
     "output_type": "stream",
     "text": [
      "Collecting pandas-datareader\n",
      "  Downloading pandas_datareader-0.10.0-py3-none-any.whl (109 kB)\n",
      "     ------------------------------------ 109.5/109.5 kB 793.8 kB/s eta 0:00:00\n",
      "Requirement already satisfied: lxml in c:\\python310\\lib\\site-packages (from pandas-datareader) (4.9.1)\n",
      "Requirement already satisfied: pandas>=0.23 in c:\\python310\\lib\\site-packages (from pandas-datareader) (1.5.1)\n",
      "Requirement already satisfied: requests>=2.19.0 in c:\\python310\\lib\\site-packages (from pandas-datareader) (2.29.0)\n",
      "Requirement already satisfied: python-dateutil>=2.8.1 in c:\\python310\\lib\\site-packages (from pandas>=0.23->pandas-datareader) (2.8.2)\n",
      "Requirement already satisfied: pytz>=2020.1 in c:\\python310\\lib\\site-packages (from pandas>=0.23->pandas-datareader) (2022.5)\n",
      "Requirement already satisfied: numpy>=1.21.0 in c:\\python310\\lib\\site-packages (from pandas>=0.23->pandas-datareader) (1.23.1)\n",
      "Requirement already satisfied: charset-normalizer<4,>=2 in c:\\python310\\lib\\site-packages (from requests>=2.19.0->pandas-datareader) (3.1.0)\n",
      "Requirement already satisfied: idna<4,>=2.5 in c:\\python310\\lib\\site-packages (from requests>=2.19.0->pandas-datareader) (3.4)\n",
      "Requirement already satisfied: urllib3<1.27,>=1.21.1 in c:\\python310\\lib\\site-packages (from requests>=2.19.0->pandas-datareader) (1.26.15)\n",
      "Requirement already satisfied: certifi>=2017.4.17 in c:\\python310\\lib\\site-packages (from requests>=2.19.0->pandas-datareader) (2022.12.7)\n",
      "Requirement already satisfied: six>=1.5 in c:\\python310\\lib\\site-packages (from python-dateutil>=2.8.1->pandas>=0.23->pandas-datareader) (1.16.0)\n",
      "Installing collected packages: pandas-datareader\n",
      "Successfully installed pandas-datareader-0.10.0\n",
      "Note: you may need to restart the kernel to use updated packages.\n"
     ]
    }
   ],
   "source": [
    "%pip install pandas-datareader"
   ]
  },
  {
   "cell_type": "code",
   "execution_count": 9,
   "metadata": {},
   "outputs": [
    {
     "name": "stdout",
     "output_type": "stream",
     "text": [
      "Collecting alpha_vantage\n",
      "  Downloading alpha_vantage-2.3.1-py3-none-any.whl (31 kB)\n",
      "Requirement already satisfied: aiohttp in c:\\python310\\lib\\site-packages (from alpha_vantage) (3.8.4)\n",
      "Requirement already satisfied: requests in c:\\python310\\lib\\site-packages (from alpha_vantage) (2.29.0)\n",
      "Requirement already satisfied: attrs>=17.3.0 in c:\\python310\\lib\\site-packages (from aiohttp->alpha_vantage) (22.1.0)\n",
      "Requirement already satisfied: charset-normalizer<4.0,>=2.0 in c:\\python310\\lib\\site-packages (from aiohttp->alpha_vantage) (3.1.0)\n",
      "Requirement already satisfied: multidict<7.0,>=4.5 in c:\\python310\\lib\\site-packages (from aiohttp->alpha_vantage) (6.0.4)\n",
      "Requirement already satisfied: async-timeout<5.0,>=4.0.0a3 in c:\\python310\\lib\\site-packages (from aiohttp->alpha_vantage) (4.0.2)\n",
      "Requirement already satisfied: yarl<2.0,>=1.0 in c:\\python310\\lib\\site-packages (from aiohttp->alpha_vantage) (1.8.2)\n",
      "Requirement already satisfied: frozenlist>=1.1.1 in c:\\python310\\lib\\site-packages (from aiohttp->alpha_vantage) (1.3.3)\n",
      "Requirement already satisfied: aiosignal>=1.1.2 in c:\\python310\\lib\\site-packages (from aiohttp->alpha_vantage) (1.3.1)\n",
      "Requirement already satisfied: idna<4,>=2.5 in c:\\python310\\lib\\site-packages (from requests->alpha_vantage) (3.4)\n",
      "Requirement already satisfied: urllib3<1.27,>=1.21.1 in c:\\python310\\lib\\site-packages (from requests->alpha_vantage) (1.26.15)\n",
      "Requirement already satisfied: certifi>=2017.4.17 in c:\\python310\\lib\\site-packages (from requests->alpha_vantage) (2022.12.7)\n",
      "Installing collected packages: alpha_vantage\n",
      "Successfully installed alpha_vantage-2.3.1\n",
      "Note: you may need to restart the kernel to use updated packages.\n"
     ]
    }
   ],
   "source": [
    "%pip install alpha_vantage"
   ]
  },
  {
   "cell_type": "code",
   "execution_count": 12,
   "metadata": {},
   "outputs": [],
   "source": [
    "import pandas_datareader as pdr\n",
    "import pandas as pd\n",
    "from datetime import datetime\n",
    "from alpha_vantage.timeseries import TimeSeries"
   ]
  },
  {
   "cell_type": "code",
   "execution_count": 14,
   "metadata": {},
   "outputs": [],
   "source": [
    "alpha_vintage_api_key=\"I1LFNGR0RXJVMBF5\"\n",
    "ts = TimeSeries(key=alpha_vintage_api_key, output_format='pandas')"
   ]
  },
  {
   "cell_type": "code",
   "execution_count": 15,
   "metadata": {},
   "outputs": [],
   "source": [
    "data, meta_data = ts.get_daily(symbol='TSLA', outputsize='full')"
   ]
  },
  {
   "cell_type": "code",
   "execution_count": 17,
   "metadata": {},
   "outputs": [],
   "source": [
    "df_tesla=data"
   ]
  },
  {
   "cell_type": "code",
   "execution_count": 18,
   "metadata": {},
   "outputs": [
    {
     "data": {
      "text/plain": [
       "pandas.core.frame.DataFrame"
      ]
     },
     "execution_count": 18,
     "metadata": {},
     "output_type": "execute_result"
    }
   ],
   "source": [
    "type(df_tesla)"
   ]
  },
  {
   "cell_type": "code",
   "execution_count": 20,
   "metadata": {},
   "outputs": [
    {
     "data": {
      "text/html": [
       "<div>\n",
       "<style scoped>\n",
       "    .dataframe tbody tr th:only-of-type {\n",
       "        vertical-align: middle;\n",
       "    }\n",
       "\n",
       "    .dataframe tbody tr th {\n",
       "        vertical-align: top;\n",
       "    }\n",
       "\n",
       "    .dataframe thead th {\n",
       "        text-align: right;\n",
       "    }\n",
       "</style>\n",
       "<table border=\"1\" class=\"dataframe\">\n",
       "  <thead>\n",
       "    <tr style=\"text-align: right;\">\n",
       "      <th></th>\n",
       "      <th>1. open</th>\n",
       "      <th>2. high</th>\n",
       "      <th>3. low</th>\n",
       "      <th>4. close</th>\n",
       "      <th>5. volume</th>\n",
       "    </tr>\n",
       "    <tr>\n",
       "      <th>date</th>\n",
       "      <th></th>\n",
       "      <th></th>\n",
       "      <th></th>\n",
       "      <th></th>\n",
       "      <th></th>\n",
       "    </tr>\n",
       "  </thead>\n",
       "  <tbody>\n",
       "    <tr>\n",
       "      <th>2010-07-06</th>\n",
       "      <td>20.00</td>\n",
       "      <td>20.0000</td>\n",
       "      <td>15.83</td>\n",
       "      <td>16.11</td>\n",
       "      <td>6866900.0</td>\n",
       "    </tr>\n",
       "    <tr>\n",
       "      <th>2010-07-02</th>\n",
       "      <td>23.00</td>\n",
       "      <td>23.1000</td>\n",
       "      <td>18.71</td>\n",
       "      <td>19.20</td>\n",
       "      <td>5139800.0</td>\n",
       "    </tr>\n",
       "    <tr>\n",
       "      <th>2010-07-01</th>\n",
       "      <td>25.00</td>\n",
       "      <td>25.9200</td>\n",
       "      <td>20.27</td>\n",
       "      <td>21.96</td>\n",
       "      <td>8218800.0</td>\n",
       "    </tr>\n",
       "    <tr>\n",
       "      <th>2010-06-30</th>\n",
       "      <td>25.79</td>\n",
       "      <td>30.4192</td>\n",
       "      <td>23.30</td>\n",
       "      <td>23.83</td>\n",
       "      <td>17187100.0</td>\n",
       "    </tr>\n",
       "    <tr>\n",
       "      <th>2010-06-29</th>\n",
       "      <td>19.00</td>\n",
       "      <td>25.0000</td>\n",
       "      <td>17.54</td>\n",
       "      <td>23.89</td>\n",
       "      <td>18766300.0</td>\n",
       "    </tr>\n",
       "  </tbody>\n",
       "</table>\n",
       "</div>"
      ],
      "text/plain": [
       "            1. open  2. high  3. low  4. close   5. volume\n",
       "date                                                      \n",
       "2010-07-06    20.00  20.0000   15.83     16.11   6866900.0\n",
       "2010-07-02    23.00  23.1000   18.71     19.20   5139800.0\n",
       "2010-07-01    25.00  25.9200   20.27     21.96   8218800.0\n",
       "2010-06-30    25.79  30.4192   23.30     23.83  17187100.0\n",
       "2010-06-29    19.00  25.0000   17.54     23.89  18766300.0"
      ]
     },
     "execution_count": 20,
     "metadata": {},
     "output_type": "execute_result"
    }
   ],
   "source": [
    "df_tesla.tail()"
   ]
  },
  {
   "cell_type": "code",
   "execution_count": 24,
   "metadata": {},
   "outputs": [
    {
     "data": {
      "text/plain": [
       "<AxesSubplot: xlabel='date'>"
      ]
     },
     "execution_count": 24,
     "metadata": {},
     "output_type": "execute_result"
    },
    {
     "data": {
      "image/png": "[encoded data removed]",
      "text/plain": [
       "<Figure size 864x288 with 1 Axes>"
      ]
     },
     "metadata": {
      "needs_background": "light"
     },
     "output_type": "display_data"
    }
   ],
   "source": [
    "df_tesla[\"2. high\"].plot(xlim=['2020-01-01','2021-09-01'] ,figsize=(12,4))"
   ]
  },
  {
   "cell_type": "code",
   "execution_count": 28,
   "metadata": {},
   "outputs": [
    {
     "data": {
      "text/plain": [
       "<AxesSubplot: xlabel='date'>"
      ]
     },
     "execution_count": 28,
     "metadata": {},
     "output_type": "execute_result"
    },
    {
     "data": {
      "image/png": "[encoded data removed]",
      "text/plain": [
       "<Figure size 864x288 with 1 Axes>"
      ]
     },
     "metadata": {
      "needs_background": "light"
     },
     "output_type": "display_data"
    }
   ],
   "source": [
    "df_tesla[\"2. high\"].plot(xlim=['2020-01-01','2021-09-01'],ylim=[0,1000] ,figsize=(12,4),c=\"green\",ls=\"--\")"
   ]
  },
  {
   "cell_type": "code",
   "execution_count": 29,
   "metadata": {},
   "outputs": [
    {
     "data": {
      "text/plain": [
       "DatetimeIndex(['2024-01-12', '2024-01-11', '2024-01-10', '2024-01-09',\n",
       "               '2024-01-08', '2024-01-05', '2024-01-04', '2024-01-03',\n",
       "               '2024-01-02', '2023-12-29',\n",
       "               ...\n",
       "               '2010-07-13', '2010-07-12', '2010-07-09', '2010-07-08',\n",
       "               '2010-07-07', '2010-07-06', '2010-07-02', '2010-07-01',\n",
       "               '2010-06-30', '2010-06-29'],\n",
       "              dtype='datetime64[ns]', name='date', length=3409, freq=None)"
      ]
     },
     "execution_count": 29,
     "metadata": {},
     "output_type": "execute_result"
    }
   ],
   "source": [
    "df_tesla.index"
   ]
  },
  {
   "cell_type": "code",
   "execution_count": 33,
   "metadata": {},
   "outputs": [
    {
     "name": "stderr",
     "output_type": "stream",
     "text": [
      "C:\\Users\\SHASHANK SHUKLA\\AppData\\Local\\Temp\\ipykernel_8312\\701728327.py:1: FutureWarning: Value based partial slicing on non-monotonic DatetimeIndexes with non-existing keys is deprecated and will raise a KeyError in a future Version.\n",
      "  index=df_tesla.loc['2020-01-01':'2021-09-01'].index\n",
      "C:\\Users\\SHASHANK SHUKLA\\AppData\\Local\\Temp\\ipykernel_8312\\701728327.py:2: FutureWarning: Value based partial slicing on non-monotonic DatetimeIndexes with non-existing keys is deprecated and will raise a KeyError in a future Version.\n",
      "  share_open=df_tesla.loc['2020-01-01':'2021-09-01']['1. open']\n"
     ]
    }
   ],
   "source": [
    "index=df_tesla.loc['2020-01-01':'2021-09-01'].index\n",
    "share_open=df_tesla.loc['2020-01-01':'2021-09-01']['1. open']"
   ]
  },
  {
   "cell_type": "code",
   "execution_count": 34,
   "metadata": {},
   "outputs": [],
   "source": [
    "import matplotlib.pyplot as plt\n",
    "%matplotlib inline"
   ]
  },
  {
   "cell_type": "code",
   "execution_count": 37,
   "metadata": {},
   "outputs": [
    {
     "data": {
      "text/plain": [
       "[<matplotlib.lines.Line2D at 0x181825bcc70>]"
      ]
     },
     "execution_count": 37,
     "metadata": {},
     "output_type": "execute_result"
    },
    {
     "data": {
      "image/png": "[encoded data removed]",
      "text/plain": [
       "<Figure size 432x288 with 1 Axes>"
      ]
     },
     "metadata": {
      "needs_background": "light"
     },
     "output_type": "display_data"
    }
   ],
   "source": [
    "figure,axis=plt.subplots()\n",
    "plt.tight_layout()\n",
    "figure.autofmt_xdate()\n",
    "axis.plot(index,share_open)"
   ]
  },
  {
   "cell_type": "code",
   "execution_count": 42,
   "metadata": {},
   "outputs": [
    {
     "name": "stdout",
     "output_type": "stream",
     "text": [
      "<class 'pandas.core.frame.DataFrame'>\n",
      "DatetimeIndex: 3409 entries, 2024-01-12 to 2010-06-29\n",
      "Data columns (total 5 columns):\n",
      " #   Column     Non-Null Count  Dtype  \n",
      "---  ------     --------------  -----  \n",
      " 0   1. open    3409 non-null   float64\n",
      " 1   2. high    3409 non-null   float64\n",
      " 2   3. low     3409 non-null   float64\n",
      " 3   4. close   3409 non-null   float64\n",
      " 4   5. volume  3409 non-null   float64\n",
      "dtypes: float64(5)\n",
      "memory usage: 159.8 KB\n"
     ]
    }
   ],
   "source": [
    "df_tesla.info()\n",
    "df_tesla.head()\n",
    "df_tesla=df_tesla.reset_index()"
   ]
  },
  {
   "cell_type": "code",
   "execution_count": 43,
   "metadata": {},
   "outputs": [
    {
     "data": {
      "text/html": [
       "<div>\n",
       "<style scoped>\n",
       "    .dataframe tbody tr th:only-of-type {\n",
       "        vertical-align: middle;\n",
       "    }\n",
       "\n",
       "    .dataframe tbody tr th {\n",
       "        vertical-align: top;\n",
       "    }\n",
       "\n",
       "    .dataframe thead th {\n",
       "        text-align: right;\n",
       "    }\n",
       "</style>\n",
       "<table border=\"1\" class=\"dataframe\">\n",
       "  <thead>\n",
       "    <tr style=\"text-align: right;\">\n",
       "      <th></th>\n",
       "      <th>date</th>\n",
       "      <th>1. open</th>\n",
       "      <th>2. high</th>\n",
       "      <th>3. low</th>\n",
       "      <th>4. close</th>\n",
       "      <th>5. volume</th>\n",
       "    </tr>\n",
       "  </thead>\n",
       "  <tbody>\n",
       "    <tr>\n",
       "      <th>0</th>\n",
       "      <td>2024-01-12</td>\n",
       "      <td>220.08</td>\n",
       "      <td>225.3400</td>\n",
       "      <td>217.1501</td>\n",
       "      <td>218.89</td>\n",
       "      <td>123043812.0</td>\n",
       "    </tr>\n",
       "    <tr>\n",
       "      <th>1</th>\n",
       "      <td>2024-01-11</td>\n",
       "      <td>230.57</td>\n",
       "      <td>230.9300</td>\n",
       "      <td>225.3700</td>\n",
       "      <td>227.22</td>\n",
       "      <td>105873612.0</td>\n",
       "    </tr>\n",
       "    <tr>\n",
       "      <th>2</th>\n",
       "      <td>2024-01-10</td>\n",
       "      <td>235.10</td>\n",
       "      <td>235.5000</td>\n",
       "      <td>231.2900</td>\n",
       "      <td>233.94</td>\n",
       "      <td>91628502.0</td>\n",
       "    </tr>\n",
       "    <tr>\n",
       "      <th>3</th>\n",
       "      <td>2024-01-09</td>\n",
       "      <td>238.11</td>\n",
       "      <td>238.9646</td>\n",
       "      <td>232.0400</td>\n",
       "      <td>234.96</td>\n",
       "      <td>96705664.0</td>\n",
       "    </tr>\n",
       "    <tr>\n",
       "      <th>4</th>\n",
       "      <td>2024-01-08</td>\n",
       "      <td>236.14</td>\n",
       "      <td>241.2500</td>\n",
       "      <td>235.3000</td>\n",
       "      <td>240.45</td>\n",
       "      <td>85166580.0</td>\n",
       "    </tr>\n",
       "  </tbody>\n",
       "</table>\n",
       "</div>"
      ],
      "text/plain": [
       "        date  1. open   2. high    3. low  4. close    5. volume\n",
       "0 2024-01-12   220.08  225.3400  217.1501    218.89  123043812.0\n",
       "1 2024-01-11   230.57  230.9300  225.3700    227.22  105873612.0\n",
       "2 2024-01-10   235.10  235.5000  231.2900    233.94   91628502.0\n",
       "3 2024-01-09   238.11  238.9646  232.0400    234.96   96705664.0\n",
       "4 2024-01-08   236.14  241.2500  235.3000    240.45   85166580.0"
      ]
     },
     "execution_count": 43,
     "metadata": {},
     "output_type": "execute_result"
    }
   ],
   "source": [
    "df_tesla.head(5)"
   ]
  },
  {
   "cell_type": "code",
   "execution_count": 45,
   "metadata": {},
   "outputs": [
    {
     "name": "stdout",
     "output_type": "stream",
     "text": [
      "<class 'pandas.core.frame.DataFrame'>\n",
      "RangeIndex: 3409 entries, 0 to 3408\n",
      "Data columns (total 6 columns):\n",
      " #   Column     Non-Null Count  Dtype         \n",
      "---  ------     --------------  -----         \n",
      " 0   date       3409 non-null   datetime64[ns]\n",
      " 1   1. open    3409 non-null   float64       \n",
      " 2   2. high    3409 non-null   float64       \n",
      " 3   3. low     3409 non-null   float64       \n",
      " 4   4. close   3409 non-null   float64       \n",
      " 5   5. volume  3409 non-null   float64       \n",
      "dtypes: datetime64[ns](1), float64(5)\n",
      "memory usage: 159.9 KB\n"
     ]
    }
   ],
   "source": [
    "df_tesla.info()"
   ]
  },
  {
   "cell_type": "code",
   "execution_count": 47,
   "metadata": {},
   "outputs": [],
   "source": [
    "df_tesla=df_tesla.set_index('date',drop=True)"
   ]
  },
  {
   "cell_type": "code",
   "execution_count": 49,
   "metadata": {},
   "outputs": [
    {
     "data": {
      "text/html": [
       "<div>\n",
       "<style scoped>\n",
       "    .dataframe tbody tr th:only-of-type {\n",
       "        vertical-align: middle;\n",
       "    }\n",
       "\n",
       "    .dataframe tbody tr th {\n",
       "        vertical-align: top;\n",
       "    }\n",
       "\n",
       "    .dataframe thead th {\n",
       "        text-align: right;\n",
       "    }\n",
       "</style>\n",
       "<table border=\"1\" class=\"dataframe\">\n",
       "  <thead>\n",
       "    <tr style=\"text-align: right;\">\n",
       "      <th></th>\n",
       "      <th>1. open</th>\n",
       "      <th>2. high</th>\n",
       "      <th>3. low</th>\n",
       "      <th>4. close</th>\n",
       "      <th>5. volume</th>\n",
       "    </tr>\n",
       "    <tr>\n",
       "      <th>date</th>\n",
       "      <th></th>\n",
       "      <th></th>\n",
       "      <th></th>\n",
       "      <th></th>\n",
       "      <th></th>\n",
       "    </tr>\n",
       "  </thead>\n",
       "  <tbody>\n",
       "    <tr>\n",
       "      <th>2024-01-12</th>\n",
       "      <td>220.08</td>\n",
       "      <td>225.3400</td>\n",
       "      <td>217.1501</td>\n",
       "      <td>218.89</td>\n",
       "      <td>123043812.0</td>\n",
       "    </tr>\n",
       "    <tr>\n",
       "      <th>2024-01-11</th>\n",
       "      <td>230.57</td>\n",
       "      <td>230.9300</td>\n",
       "      <td>225.3700</td>\n",
       "      <td>227.22</td>\n",
       "      <td>105873612.0</td>\n",
       "    </tr>\n",
       "    <tr>\n",
       "      <th>2024-01-10</th>\n",
       "      <td>235.10</td>\n",
       "      <td>235.5000</td>\n",
       "      <td>231.2900</td>\n",
       "      <td>233.94</td>\n",
       "      <td>91628502.0</td>\n",
       "    </tr>\n",
       "    <tr>\n",
       "      <th>2024-01-09</th>\n",
       "      <td>238.11</td>\n",
       "      <td>238.9646</td>\n",
       "      <td>232.0400</td>\n",
       "      <td>234.96</td>\n",
       "      <td>96705664.0</td>\n",
       "    </tr>\n",
       "    <tr>\n",
       "      <th>2024-01-08</th>\n",
       "      <td>236.14</td>\n",
       "      <td>241.2500</td>\n",
       "      <td>235.3000</td>\n",
       "      <td>240.45</td>\n",
       "      <td>85166580.0</td>\n",
       "    </tr>\n",
       "  </tbody>\n",
       "</table>\n",
       "</div>"
      ],
      "text/plain": [
       "            1. open   2. high    3. low  4. close    5. volume\n",
       "date                                                          \n",
       "2024-01-12   220.08  225.3400  217.1501    218.89  123043812.0\n",
       "2024-01-11   230.57  230.9300  225.3700    227.22  105873612.0\n",
       "2024-01-10   235.10  235.5000  231.2900    233.94   91628502.0\n",
       "2024-01-09   238.11  238.9646  232.0400    234.96   96705664.0\n",
       "2024-01-08   236.14  241.2500  235.3000    240.45   85166580.0"
      ]
     },
     "execution_count": 49,
     "metadata": {},
     "output_type": "execute_result"
    }
   ],
   "source": [
    "df_tesla.head(5)"
   ]
  },
  {
   "cell_type": "code",
   "execution_count": 50,
   "metadata": {},
   "outputs": [],
   "source": [
    "from datetime import datetime"
   ]
  },
  {
   "cell_type": "code",
   "execution_count": 51,
   "metadata": {},
   "outputs": [
    {
     "data": {
      "text/plain": [
       "datetime.datetime(2021, 11, 21, 0, 0)"
      ]
     },
     "execution_count": 51,
     "metadata": {},
     "output_type": "execute_result"
    }
   ],
   "source": [
    "datetime(2021,11,21,0,0)"
   ]
  },
  {
   "cell_type": "code",
   "execution_count": 54,
   "metadata": {},
   "outputs": [
    {
     "data": {
      "text/plain": [
       "datetime.datetime(2024, 1, 15, 12, 58, 9, 600044)"
      ]
     },
     "execution_count": 54,
     "metadata": {},
     "output_type": "execute_result"
    }
   ],
   "source": [
    "datetime.now()"
   ]
  },
  {
   "cell_type": "code",
   "execution_count": 55,
   "metadata": {},
   "outputs": [],
   "source": [
    "date=datetime(2021,11,21)"
   ]
  },
  {
   "cell_type": "code",
   "execution_count": 56,
   "metadata": {},
   "outputs": [
    {
     "data": {
      "text/plain": [
       "datetime.date(2021, 11, 21)"
      ]
     },
     "execution_count": 56,
     "metadata": {},
     "output_type": "execute_result"
    }
   ],
   "source": [
    "date.date()"
   ]
  },
  {
   "cell_type": "code",
   "execution_count": 60,
   "metadata": {},
   "outputs": [
    {
     "data": {
      "text/plain": [
       "2021"
      ]
     },
     "execution_count": 60,
     "metadata": {},
     "output_type": "execute_result"
    }
   ],
   "source": [
    "date.year"
   ]
  },
  {
   "attachments": {},
   "cell_type": "markdown",
   "metadata": {},
   "source": [
    "## TIME RESAMPLING"
   ]
  },
  {
   "cell_type": "code",
   "execution_count": 61,
   "metadata": {},
   "outputs": [
    {
     "data": {
      "text/html": [
       "<div>\n",
       "<style scoped>\n",
       "    .dataframe tbody tr th:only-of-type {\n",
       "        vertical-align: middle;\n",
       "    }\n",
       "\n",
       "    .dataframe tbody tr th {\n",
       "        vertical-align: top;\n",
       "    }\n",
       "\n",
       "    .dataframe thead th {\n",
       "        text-align: right;\n",
       "    }\n",
       "</style>\n",
       "<table border=\"1\" class=\"dataframe\">\n",
       "  <thead>\n",
       "    <tr style=\"text-align: right;\">\n",
       "      <th></th>\n",
       "      <th>1. open</th>\n",
       "      <th>2. high</th>\n",
       "      <th>3. low</th>\n",
       "      <th>4. close</th>\n",
       "      <th>5. volume</th>\n",
       "    </tr>\n",
       "    <tr>\n",
       "      <th>date</th>\n",
       "      <th></th>\n",
       "      <th></th>\n",
       "      <th></th>\n",
       "      <th></th>\n",
       "      <th></th>\n",
       "    </tr>\n",
       "  </thead>\n",
       "  <tbody>\n",
       "    <tr>\n",
       "      <th>2024-01-12</th>\n",
       "      <td>220.08</td>\n",
       "      <td>225.3400</td>\n",
       "      <td>217.1501</td>\n",
       "      <td>218.89</td>\n",
       "      <td>123043812.0</td>\n",
       "    </tr>\n",
       "    <tr>\n",
       "      <th>2024-01-11</th>\n",
       "      <td>230.57</td>\n",
       "      <td>230.9300</td>\n",
       "      <td>225.3700</td>\n",
       "      <td>227.22</td>\n",
       "      <td>105873612.0</td>\n",
       "    </tr>\n",
       "    <tr>\n",
       "      <th>2024-01-10</th>\n",
       "      <td>235.10</td>\n",
       "      <td>235.5000</td>\n",
       "      <td>231.2900</td>\n",
       "      <td>233.94</td>\n",
       "      <td>91628502.0</td>\n",
       "    </tr>\n",
       "    <tr>\n",
       "      <th>2024-01-09</th>\n",
       "      <td>238.11</td>\n",
       "      <td>238.9646</td>\n",
       "      <td>232.0400</td>\n",
       "      <td>234.96</td>\n",
       "      <td>96705664.0</td>\n",
       "    </tr>\n",
       "    <tr>\n",
       "      <th>2024-01-08</th>\n",
       "      <td>236.14</td>\n",
       "      <td>241.2500</td>\n",
       "      <td>235.3000</td>\n",
       "      <td>240.45</td>\n",
       "      <td>85166580.0</td>\n",
       "    </tr>\n",
       "  </tbody>\n",
       "</table>\n",
       "</div>"
      ],
      "text/plain": [
       "            1. open   2. high    3. low  4. close    5. volume\n",
       "date                                                          \n",
       "2024-01-12   220.08  225.3400  217.1501    218.89  123043812.0\n",
       "2024-01-11   230.57  230.9300  225.3700    227.22  105873612.0\n",
       "2024-01-10   235.10  235.5000  231.2900    233.94   91628502.0\n",
       "2024-01-09   238.11  238.9646  232.0400    234.96   96705664.0\n",
       "2024-01-08   236.14  241.2500  235.3000    240.45   85166580.0"
      ]
     },
     "execution_count": 61,
     "metadata": {},
     "output_type": "execute_result"
    }
   ],
   "source": [
    "df_tesla.head()"
   ]
  },
  {
   "cell_type": "code",
   "execution_count": 62,
   "metadata": {},
   "outputs": [
    {
     "data": {
      "text/html": [
       "<div>\n",
       "<style scoped>\n",
       "    .dataframe tbody tr th:only-of-type {\n",
       "        vertical-align: middle;\n",
       "    }\n",
       "\n",
       "    .dataframe tbody tr th {\n",
       "        vertical-align: top;\n",
       "    }\n",
       "\n",
       "    .dataframe thead th {\n",
       "        text-align: right;\n",
       "    }\n",
       "</style>\n",
       "<table border=\"1\" class=\"dataframe\">\n",
       "  <thead>\n",
       "    <tr style=\"text-align: right;\">\n",
       "      <th></th>\n",
       "      <th>1. open</th>\n",
       "      <th>2. high</th>\n",
       "      <th>3. low</th>\n",
       "      <th>4. close</th>\n",
       "      <th>5. volume</th>\n",
       "    </tr>\n",
       "    <tr>\n",
       "      <th>date</th>\n",
       "      <th></th>\n",
       "      <th></th>\n",
       "      <th></th>\n",
       "      <th></th>\n",
       "      <th></th>\n",
       "    </tr>\n",
       "  </thead>\n",
       "  <tbody>\n",
       "    <tr>\n",
       "      <th>2010-12-31</th>\n",
       "      <td>16.14</td>\n",
       "      <td>16.6300</td>\n",
       "      <td>14.9800</td>\n",
       "      <td>15.80</td>\n",
       "      <td>118500.0</td>\n",
       "    </tr>\n",
       "    <tr>\n",
       "      <th>2011-12-31</th>\n",
       "      <td>21.78</td>\n",
       "      <td>22.2700</td>\n",
       "      <td>21.1100</td>\n",
       "      <td>21.83</td>\n",
       "      <td>239600.0</td>\n",
       "    </tr>\n",
       "    <tr>\n",
       "      <th>2012-12-31</th>\n",
       "      <td>26.62</td>\n",
       "      <td>26.8500</td>\n",
       "      <td>22.6400</td>\n",
       "      <td>22.79</td>\n",
       "      <td>364900.0</td>\n",
       "    </tr>\n",
       "    <tr>\n",
       "      <th>2013-12-31</th>\n",
       "      <td>33.08</td>\n",
       "      <td>33.3800</td>\n",
       "      <td>32.1100</td>\n",
       "      <td>32.91</td>\n",
       "      <td>440200.0</td>\n",
       "    </tr>\n",
       "    <tr>\n",
       "      <th>2014-12-31</th>\n",
       "      <td>140.50</td>\n",
       "      <td>147.0000</td>\n",
       "      <td>136.6710</td>\n",
       "      <td>139.34</td>\n",
       "      <td>1333518.0</td>\n",
       "    </tr>\n",
       "    <tr>\n",
       "      <th>2015-12-31</th>\n",
       "      <td>185.83</td>\n",
       "      <td>189.2899</td>\n",
       "      <td>181.4000</td>\n",
       "      <td>185.00</td>\n",
       "      <td>710277.0</td>\n",
       "    </tr>\n",
       "    <tr>\n",
       "      <th>2016-12-31</th>\n",
       "      <td>142.32</td>\n",
       "      <td>154.9700</td>\n",
       "      <td>141.0500</td>\n",
       "      <td>143.67</td>\n",
       "      <td>1659530.0</td>\n",
       "    </tr>\n",
       "    <tr>\n",
       "      <th>2017-12-31</th>\n",
       "      <td>214.75</td>\n",
       "      <td>220.3300</td>\n",
       "      <td>210.9600</td>\n",
       "      <td>216.99</td>\n",
       "      <td>2186723.0</td>\n",
       "    </tr>\n",
       "    <tr>\n",
       "      <th>2018-12-31</th>\n",
       "      <td>252.78</td>\n",
       "      <td>260.3300</td>\n",
       "      <td>244.5900</td>\n",
       "      <td>250.56</td>\n",
       "      <td>3080724.0</td>\n",
       "    </tr>\n",
       "    <tr>\n",
       "      <th>2019-12-31</th>\n",
       "      <td>181.10</td>\n",
       "      <td>186.6800</td>\n",
       "      <td>176.9900</td>\n",
       "      <td>178.97</td>\n",
       "      <td>2465629.0</td>\n",
       "    </tr>\n",
       "    <tr>\n",
       "      <th>2020-12-31</th>\n",
       "      <td>356.00</td>\n",
       "      <td>368.7400</td>\n",
       "      <td>329.8800</td>\n",
       "      <td>330.21</td>\n",
       "      <td>4978015.0</td>\n",
       "    </tr>\n",
       "    <tr>\n",
       "      <th>2021-12-31</th>\n",
       "      <td>552.55</td>\n",
       "      <td>566.2100</td>\n",
       "      <td>539.4900</td>\n",
       "      <td>563.00</td>\n",
       "      <td>9800558.0</td>\n",
       "    </tr>\n",
       "    <tr>\n",
       "      <th>2022-12-31</th>\n",
       "      <td>110.35</td>\n",
       "      <td>116.2700</td>\n",
       "      <td>108.2400</td>\n",
       "      <td>109.10</td>\n",
       "      <td>15833512.0</td>\n",
       "    </tr>\n",
       "    <tr>\n",
       "      <th>2023-12-31</th>\n",
       "      <td>103.00</td>\n",
       "      <td>111.7500</td>\n",
       "      <td>101.8100</td>\n",
       "      <td>108.10</td>\n",
       "      <td>65125203.0</td>\n",
       "    </tr>\n",
       "    <tr>\n",
       "      <th>2024-12-31</th>\n",
       "      <td>220.08</td>\n",
       "      <td>225.3400</td>\n",
       "      <td>217.1501</td>\n",
       "      <td>218.89</td>\n",
       "      <td>85166580.0</td>\n",
       "    </tr>\n",
       "  </tbody>\n",
       "</table>\n",
       "</div>"
      ],
      "text/plain": [
       "            1. open   2. high    3. low  4. close   5. volume\n",
       "date                                                         \n",
       "2010-12-31    16.14   16.6300   14.9800     15.80    118500.0\n",
       "2011-12-31    21.78   22.2700   21.1100     21.83    239600.0\n",
       "2012-12-31    26.62   26.8500   22.6400     22.79    364900.0\n",
       "2013-12-31    33.08   33.3800   32.1100     32.91    440200.0\n",
       "2014-12-31   140.50  147.0000  136.6710    139.34   1333518.0\n",
       "2015-12-31   185.83  189.2899  181.4000    185.00    710277.0\n",
       "2016-12-31   142.32  154.9700  141.0500    143.67   1659530.0\n",
       "2017-12-31   214.75  220.3300  210.9600    216.99   2186723.0\n",
       "2018-12-31   252.78  260.3300  244.5900    250.56   3080724.0\n",
       "2019-12-31   181.10  186.6800  176.9900    178.97   2465629.0\n",
       "2020-12-31   356.00  368.7400  329.8800    330.21   4978015.0\n",
       "2021-12-31   552.55  566.2100  539.4900    563.00   9800558.0\n",
       "2022-12-31   110.35  116.2700  108.2400    109.10  15833512.0\n",
       "2023-12-31   103.00  111.7500  101.8100    108.10  65125203.0\n",
       "2024-12-31   220.08  225.3400  217.1501    218.89  85166580.0"
      ]
     },
     "execution_count": 62,
     "metadata": {},
     "output_type": "execute_result"
    }
   ],
   "source": [
    "df_tesla.resample(rule='A').min()"
   ]
  },
  {
   "cell_type": "code",
   "execution_count": 63,
   "metadata": {},
   "outputs": [
    {
     "data": {
      "text/html": [
       "<div>\n",
       "<style scoped>\n",
       "    .dataframe tbody tr th:only-of-type {\n",
       "        vertical-align: middle;\n",
       "    }\n",
       "\n",
       "    .dataframe tbody tr th {\n",
       "        vertical-align: top;\n",
       "    }\n",
       "\n",
       "    .dataframe thead th {\n",
       "        text-align: right;\n",
       "    }\n",
       "</style>\n",
       "<table border=\"1\" class=\"dataframe\">\n",
       "  <thead>\n",
       "    <tr style=\"text-align: right;\">\n",
       "      <th></th>\n",
       "      <th>1. open</th>\n",
       "      <th>2. high</th>\n",
       "      <th>3. low</th>\n",
       "      <th>4. close</th>\n",
       "      <th>5. volume</th>\n",
       "    </tr>\n",
       "    <tr>\n",
       "      <th>date</th>\n",
       "      <th></th>\n",
       "      <th></th>\n",
       "      <th></th>\n",
       "      <th></th>\n",
       "      <th></th>\n",
       "    </tr>\n",
       "  </thead>\n",
       "  <tbody>\n",
       "    <tr>\n",
       "      <th>2010-12-31</th>\n",
       "      <td>35.870</td>\n",
       "      <td>36.42</td>\n",
       "      <td>34.7500</td>\n",
       "      <td>35.47</td>\n",
       "      <td>18766300.0</td>\n",
       "    </tr>\n",
       "    <tr>\n",
       "      <th>2011-12-31</th>\n",
       "      <td>34.630</td>\n",
       "      <td>35.00</td>\n",
       "      <td>34.0310</td>\n",
       "      <td>34.94</td>\n",
       "      <td>11517800.0</td>\n",
       "    </tr>\n",
       "    <tr>\n",
       "      <th>2012-12-31</th>\n",
       "      <td>38.190</td>\n",
       "      <td>39.95</td>\n",
       "      <td>37.1104</td>\n",
       "      <td>38.01</td>\n",
       "      <td>5680400.0</td>\n",
       "    </tr>\n",
       "    <tr>\n",
       "      <th>2013-12-31</th>\n",
       "      <td>193.960</td>\n",
       "      <td>194.50</td>\n",
       "      <td>188.3700</td>\n",
       "      <td>193.37</td>\n",
       "      <td>37163900.0</td>\n",
       "    </tr>\n",
       "    <tr>\n",
       "      <th>2014-12-31</th>\n",
       "      <td>287.670</td>\n",
       "      <td>291.42</td>\n",
       "      <td>280.4000</td>\n",
       "      <td>286.04</td>\n",
       "      <td>32681700.0</td>\n",
       "    </tr>\n",
       "    <tr>\n",
       "      <th>2015-12-31</th>\n",
       "      <td>280.195</td>\n",
       "      <td>286.65</td>\n",
       "      <td>276.3000</td>\n",
       "      <td>282.26</td>\n",
       "      <td>15649607.0</td>\n",
       "    </tr>\n",
       "    <tr>\n",
       "      <th>2016-12-31</th>\n",
       "      <td>266.450</td>\n",
       "      <td>269.34</td>\n",
       "      <td>254.5100</td>\n",
       "      <td>265.42</td>\n",
       "      <td>23742414.0</td>\n",
       "    </tr>\n",
       "    <tr>\n",
       "      <th>2017-12-31</th>\n",
       "      <td>386.690</td>\n",
       "      <td>389.61</td>\n",
       "      <td>379.3450</td>\n",
       "      <td>385.00</td>\n",
       "      <td>19731322.0</td>\n",
       "    </tr>\n",
       "    <tr>\n",
       "      <th>2018-12-31</th>\n",
       "      <td>375.000</td>\n",
       "      <td>387.46</td>\n",
       "      <td>367.1200</td>\n",
       "      <td>379.57</td>\n",
       "      <td>33649700.0</td>\n",
       "    </tr>\n",
       "    <tr>\n",
       "      <th>2019-12-31</th>\n",
       "      <td>435.000</td>\n",
       "      <td>435.31</td>\n",
       "      <td>426.3500</td>\n",
       "      <td>430.94</td>\n",
       "      <td>30006091.0</td>\n",
       "    </tr>\n",
       "    <tr>\n",
       "      <th>2020-12-31</th>\n",
       "      <td>2295.120</td>\n",
       "      <td>2318.49</td>\n",
       "      <td>2186.5200</td>\n",
       "      <td>2238.75</td>\n",
       "      <td>222126194.0</td>\n",
       "    </tr>\n",
       "    <tr>\n",
       "      <th>2021-12-31</th>\n",
       "      <td>1234.410</td>\n",
       "      <td>1243.49</td>\n",
       "      <td>1217.0000</td>\n",
       "      <td>1229.91</td>\n",
       "      <td>89396459.0</td>\n",
       "    </tr>\n",
       "    <tr>\n",
       "      <th>2022-12-31</th>\n",
       "      <td>1189.550</td>\n",
       "      <td>1208.00</td>\n",
       "      <td>1136.0400</td>\n",
       "      <td>1199.78</td>\n",
       "      <td>221923313.0</td>\n",
       "    </tr>\n",
       "    <tr>\n",
       "      <th>2023-12-31</th>\n",
       "      <td>296.040</td>\n",
       "      <td>299.29</td>\n",
       "      <td>289.5201</td>\n",
       "      <td>293.34</td>\n",
       "      <td>306590613.0</td>\n",
       "    </tr>\n",
       "    <tr>\n",
       "      <th>2024-12-31</th>\n",
       "      <td>250.080</td>\n",
       "      <td>251.25</td>\n",
       "      <td>244.4100</td>\n",
       "      <td>248.42</td>\n",
       "      <td>123043812.0</td>\n",
       "    </tr>\n",
       "  </tbody>\n",
       "</table>\n",
       "</div>"
      ],
      "text/plain": [
       "             1. open  2. high     3. low  4. close    5. volume\n",
       "date                                                           \n",
       "2010-12-31    35.870    36.42    34.7500     35.47   18766300.0\n",
       "2011-12-31    34.630    35.00    34.0310     34.94   11517800.0\n",
       "2012-12-31    38.190    39.95    37.1104     38.01    5680400.0\n",
       "2013-12-31   193.960   194.50   188.3700    193.37   37163900.0\n",
       "2014-12-31   287.670   291.42   280.4000    286.04   32681700.0\n",
       "2015-12-31   280.195   286.65   276.3000    282.26   15649607.0\n",
       "2016-12-31   266.450   269.34   254.5100    265.42   23742414.0\n",
       "2017-12-31   386.690   389.61   379.3450    385.00   19731322.0\n",
       "2018-12-31   375.000   387.46   367.1200    379.57   33649700.0\n",
       "2019-12-31   435.000   435.31   426.3500    430.94   30006091.0\n",
       "2020-12-31  2295.120  2318.49  2186.5200   2238.75  222126194.0\n",
       "2021-12-31  1234.410  1243.49  1217.0000   1229.91   89396459.0\n",
       "2022-12-31  1189.550  1208.00  1136.0400   1199.78  221923313.0\n",
       "2023-12-31   296.040   299.29   289.5201    293.34  306590613.0\n",
       "2024-12-31   250.080   251.25   244.4100    248.42  123043812.0"
      ]
     },
     "execution_count": 63,
     "metadata": {},
     "output_type": "execute_result"
    }
   ],
   "source": [
    "df_tesla.resample(rule='A').max()"
   ]
  },
  {
   "cell_type": "code",
   "execution_count": 65,
   "metadata": {},
   "outputs": [
    {
     "data": {
      "text/plain": [
       "<AxesSubplot: xlabel='date'>"
      ]
     },
     "execution_count": 65,
     "metadata": {},
     "output_type": "execute_result"
    },
    {
     "data": {
      "image/png": "[encoded data removed]",
      "text/plain": [
       "<Figure size 432x288 with 1 Axes>"
      ]
     },
     "metadata": {
      "needs_background": "light"
     },
     "output_type": "display_data"
    }
   ],
   "source": [
    "df_tesla.resample(rule='A').max()['1. open'].plot()"
   ]
  },
  {
   "cell_type": "code",
   "execution_count": 67,
   "metadata": {},
   "outputs": [
    {
     "data": {
      "text/plain": [
       "<AxesSubplot: xlabel='date'>"
      ]
     },
     "execution_count": 67,
     "metadata": {},
     "output_type": "execute_result"
    },
    {
     "data": {
      "image/png": "[encoded data removed]",
      "text/plain": [
       "<Figure size 432x288 with 1 Axes>"
      ]
     },
     "metadata": {
      "needs_background": "light"
     },
     "output_type": "display_data"
    }
   ],
   "source": [
    "df_tesla['1. open'].resample(rule=\"A\").mean().plot(kind=\"bar\")"
   ]
  },
  {
   "cell_type": "code",
   "execution_count": 69,
   "metadata": {},
   "outputs": [
    {
     "data": {
      "text/plain": [
       "date\n",
       "2024-01-12          NaN\n",
       "2024-01-11          NaN\n",
       "2024-01-10          NaN\n",
       "2024-01-09          NaN\n",
       "2024-01-08          NaN\n",
       "2024-01-05          NaN\n",
       "2024-01-04          NaN\n",
       "2024-01-03          NaN\n",
       "2024-01-02          NaN\n",
       "2023-12-29    240.69242\n",
       "2023-12-28    244.67142\n",
       "2023-12-27    247.91242\n",
       "2023-12-26    250.15942\n",
       "2023-12-22    252.08496\n",
       "2023-12-21    253.43995\n",
       "2023-12-20    255.41199\n",
       "2023-12-19    256.97598\n",
       "2023-12-18    258.28198\n",
       "2023-12-15    258.56998\n",
       "2023-12-14    258.43898\n",
       "Name: 2. high, dtype: float64"
      ]
     },
     "execution_count": 69,
     "metadata": {},
     "output_type": "execute_result"
    }
   ],
   "source": [
    "df_tesla['2. high'].rolling(10).mean().head(20)"
   ]
  },
  {
   "cell_type": "code",
   "execution_count": 70,
   "metadata": {},
   "outputs": [],
   "source": [
    "df_tesla['Open:30 days rolling']=df_tesla['1. open'].rolling(30).mean()"
   ]
  },
  {
   "cell_type": "code",
   "execution_count": 72,
   "metadata": {},
   "outputs": [
    {
     "data": {
      "text/html": [
       "<div>\n",
       "<style scoped>\n",
       "    .dataframe tbody tr th:only-of-type {\n",
       "        vertical-align: middle;\n",
       "    }\n",
       "\n",
       "    .dataframe tbody tr th {\n",
       "        vertical-align: top;\n",
       "    }\n",
       "\n",
       "    .dataframe thead th {\n",
       "        text-align: right;\n",
       "    }\n",
       "</style>\n",
       "<table border=\"1\" class=\"dataframe\">\n",
       "  <thead>\n",
       "    <tr style=\"text-align: right;\">\n",
       "      <th></th>\n",
       "      <th>1. open</th>\n",
       "      <th>2. high</th>\n",
       "      <th>3. low</th>\n",
       "      <th>4. close</th>\n",
       "      <th>5. volume</th>\n",
       "      <th>Open:30 days rolling</th>\n",
       "    </tr>\n",
       "    <tr>\n",
       "      <th>date</th>\n",
       "      <th></th>\n",
       "      <th></th>\n",
       "      <th></th>\n",
       "      <th></th>\n",
       "      <th></th>\n",
       "      <th></th>\n",
       "    </tr>\n",
       "  </thead>\n",
       "  <tbody>\n",
       "    <tr>\n",
       "      <th>2024-01-12</th>\n",
       "      <td>220.08</td>\n",
       "      <td>225.3400</td>\n",
       "      <td>217.1501</td>\n",
       "      <td>218.89</td>\n",
       "      <td>123043812.0</td>\n",
       "      <td>NaN</td>\n",
       "    </tr>\n",
       "    <tr>\n",
       "      <th>2024-01-11</th>\n",
       "      <td>230.57</td>\n",
       "      <td>230.9300</td>\n",
       "      <td>225.3700</td>\n",
       "      <td>227.22</td>\n",
       "      <td>105873612.0</td>\n",
       "      <td>NaN</td>\n",
       "    </tr>\n",
       "    <tr>\n",
       "      <th>2024-01-10</th>\n",
       "      <td>235.10</td>\n",
       "      <td>235.5000</td>\n",
       "      <td>231.2900</td>\n",
       "      <td>233.94</td>\n",
       "      <td>91628502.0</td>\n",
       "      <td>NaN</td>\n",
       "    </tr>\n",
       "    <tr>\n",
       "      <th>2024-01-09</th>\n",
       "      <td>238.11</td>\n",
       "      <td>238.9646</td>\n",
       "      <td>232.0400</td>\n",
       "      <td>234.96</td>\n",
       "      <td>96705664.0</td>\n",
       "      <td>NaN</td>\n",
       "    </tr>\n",
       "    <tr>\n",
       "      <th>2024-01-08</th>\n",
       "      <td>236.14</td>\n",
       "      <td>241.2500</td>\n",
       "      <td>235.3000</td>\n",
       "      <td>240.45</td>\n",
       "      <td>85166580.0</td>\n",
       "      <td>NaN</td>\n",
       "    </tr>\n",
       "    <tr>\n",
       "      <th>2024-01-05</th>\n",
       "      <td>236.86</td>\n",
       "      <td>240.1196</td>\n",
       "      <td>234.9001</td>\n",
       "      <td>237.49</td>\n",
       "      <td>92240035.0</td>\n",
       "      <td>NaN</td>\n",
       "    </tr>\n",
       "    <tr>\n",
       "      <th>2024-01-04</th>\n",
       "      <td>239.25</td>\n",
       "      <td>242.7000</td>\n",
       "      <td>237.7300</td>\n",
       "      <td>237.93</td>\n",
       "      <td>102629283.0</td>\n",
       "      <td>NaN</td>\n",
       "    </tr>\n",
       "    <tr>\n",
       "      <th>2024-01-03</th>\n",
       "      <td>244.98</td>\n",
       "      <td>245.6800</td>\n",
       "      <td>236.3200</td>\n",
       "      <td>238.45</td>\n",
       "      <td>121082599.0</td>\n",
       "      <td>NaN</td>\n",
       "    </tr>\n",
       "    <tr>\n",
       "      <th>2024-01-02</th>\n",
       "      <td>250.08</td>\n",
       "      <td>251.2500</td>\n",
       "      <td>244.4100</td>\n",
       "      <td>248.42</td>\n",
       "      <td>104654163.0</td>\n",
       "      <td>NaN</td>\n",
       "    </tr>\n",
       "    <tr>\n",
       "      <th>2023-12-29</th>\n",
       "      <td>255.10</td>\n",
       "      <td>255.1900</td>\n",
       "      <td>247.4300</td>\n",
       "      <td>248.48</td>\n",
       "      <td>100891578.0</td>\n",
       "      <td>NaN</td>\n",
       "    </tr>\n",
       "    <tr>\n",
       "      <th>2023-12-28</th>\n",
       "      <td>263.66</td>\n",
       "      <td>265.1300</td>\n",
       "      <td>252.7100</td>\n",
       "      <td>253.18</td>\n",
       "      <td>113619943.0</td>\n",
       "      <td>NaN</td>\n",
       "    </tr>\n",
       "    <tr>\n",
       "      <th>2023-12-27</th>\n",
       "      <td>258.35</td>\n",
       "      <td>263.3400</td>\n",
       "      <td>257.5200</td>\n",
       "      <td>261.44</td>\n",
       "      <td>105853348.0</td>\n",
       "      <td>NaN</td>\n",
       "    </tr>\n",
       "    <tr>\n",
       "      <th>2023-12-26</th>\n",
       "      <td>254.49</td>\n",
       "      <td>257.9700</td>\n",
       "      <td>252.9100</td>\n",
       "      <td>256.61</td>\n",
       "      <td>86892382.0</td>\n",
       "      <td>NaN</td>\n",
       "    </tr>\n",
       "    <tr>\n",
       "      <th>2023-12-22</th>\n",
       "      <td>256.76</td>\n",
       "      <td>258.2200</td>\n",
       "      <td>251.3700</td>\n",
       "      <td>252.54</td>\n",
       "      <td>93370094.0</td>\n",
       "      <td>NaN</td>\n",
       "    </tr>\n",
       "    <tr>\n",
       "      <th>2023-12-21</th>\n",
       "      <td>251.90</td>\n",
       "      <td>254.7999</td>\n",
       "      <td>248.5500</td>\n",
       "      <td>254.50</td>\n",
       "      <td>109594227.0</td>\n",
       "      <td>NaN</td>\n",
       "    </tr>\n",
       "    <tr>\n",
       "      <th>2023-12-20</th>\n",
       "      <td>256.41</td>\n",
       "      <td>259.8400</td>\n",
       "      <td>247.0000</td>\n",
       "      <td>247.14</td>\n",
       "      <td>125096987.0</td>\n",
       "      <td>NaN</td>\n",
       "    </tr>\n",
       "    <tr>\n",
       "      <th>2023-12-19</th>\n",
       "      <td>253.48</td>\n",
       "      <td>258.3399</td>\n",
       "      <td>253.0100</td>\n",
       "      <td>257.22</td>\n",
       "      <td>106287276.0</td>\n",
       "      <td>NaN</td>\n",
       "    </tr>\n",
       "    <tr>\n",
       "      <th>2023-12-18</th>\n",
       "      <td>253.78</td>\n",
       "      <td>258.7400</td>\n",
       "      <td>251.3600</td>\n",
       "      <td>252.08</td>\n",
       "      <td>116416490.0</td>\n",
       "      <td>NaN</td>\n",
       "    </tr>\n",
       "    <tr>\n",
       "      <th>2023-12-15</th>\n",
       "      <td>251.21</td>\n",
       "      <td>254.1300</td>\n",
       "      <td>248.3000</td>\n",
       "      <td>253.50</td>\n",
       "      <td>135932762.0</td>\n",
       "      <td>NaN</td>\n",
       "    </tr>\n",
       "    <tr>\n",
       "      <th>2023-12-14</th>\n",
       "      <td>241.22</td>\n",
       "      <td>253.8800</td>\n",
       "      <td>240.7900</td>\n",
       "      <td>251.05</td>\n",
       "      <td>160829239.0</td>\n",
       "      <td>NaN</td>\n",
       "    </tr>\n",
       "    <tr>\n",
       "      <th>2023-12-13</th>\n",
       "      <td>234.19</td>\n",
       "      <td>240.3000</td>\n",
       "      <td>228.2000</td>\n",
       "      <td>239.29</td>\n",
       "      <td>146286348.0</td>\n",
       "      <td>NaN</td>\n",
       "    </tr>\n",
       "    <tr>\n",
       "      <th>2023-12-12</th>\n",
       "      <td>238.55</td>\n",
       "      <td>238.9900</td>\n",
       "      <td>233.8700</td>\n",
       "      <td>237.01</td>\n",
       "      <td>95328313.0</td>\n",
       "      <td>NaN</td>\n",
       "    </tr>\n",
       "    <tr>\n",
       "      <th>2023-12-11</th>\n",
       "      <td>242.74</td>\n",
       "      <td>243.4410</td>\n",
       "      <td>237.4500</td>\n",
       "      <td>239.74</td>\n",
       "      <td>97913888.0</td>\n",
       "      <td>NaN</td>\n",
       "    </tr>\n",
       "    <tr>\n",
       "      <th>2023-12-08</th>\n",
       "      <td>240.27</td>\n",
       "      <td>245.2700</td>\n",
       "      <td>239.2701</td>\n",
       "      <td>243.84</td>\n",
       "      <td>103126829.0</td>\n",
       "      <td>NaN</td>\n",
       "    </tr>\n",
       "    <tr>\n",
       "      <th>2023-12-07</th>\n",
       "      <td>241.55</td>\n",
       "      <td>244.0800</td>\n",
       "      <td>236.9800</td>\n",
       "      <td>242.64</td>\n",
       "      <td>107142262.0</td>\n",
       "      <td>NaN</td>\n",
       "    </tr>\n",
       "    <tr>\n",
       "      <th>2023-12-06</th>\n",
       "      <td>242.92</td>\n",
       "      <td>246.5700</td>\n",
       "      <td>239.1709</td>\n",
       "      <td>239.37</td>\n",
       "      <td>125905295.0</td>\n",
       "      <td>NaN</td>\n",
       "    </tr>\n",
       "    <tr>\n",
       "      <th>2023-12-05</th>\n",
       "      <td>233.87</td>\n",
       "      <td>246.6600</td>\n",
       "      <td>233.7000</td>\n",
       "      <td>238.72</td>\n",
       "      <td>137971115.0</td>\n",
       "      <td>NaN</td>\n",
       "    </tr>\n",
       "    <tr>\n",
       "      <th>2023-12-04</th>\n",
       "      <td>235.75</td>\n",
       "      <td>239.3733</td>\n",
       "      <td>233.2902</td>\n",
       "      <td>235.58</td>\n",
       "      <td>104099817.0</td>\n",
       "      <td>NaN</td>\n",
       "    </tr>\n",
       "    <tr>\n",
       "      <th>2023-12-01</th>\n",
       "      <td>233.14</td>\n",
       "      <td>240.1900</td>\n",
       "      <td>231.9000</td>\n",
       "      <td>238.83</td>\n",
       "      <td>121331709.0</td>\n",
       "      <td>NaN</td>\n",
       "    </tr>\n",
       "    <tr>\n",
       "      <th>2023-11-30</th>\n",
       "      <td>245.14</td>\n",
       "      <td>245.2200</td>\n",
       "      <td>236.9100</td>\n",
       "      <td>240.08</td>\n",
       "      <td>132353196.0</td>\n",
       "      <td>243.855</td>\n",
       "    </tr>\n",
       "    <tr>\n",
       "      <th>2023-11-29</th>\n",
       "      <td>249.21</td>\n",
       "      <td>252.7500</td>\n",
       "      <td>242.7600</td>\n",
       "      <td>244.14</td>\n",
       "      <td>135401335.0</td>\n",
       "      <td>244.826</td>\n",
       "    </tr>\n",
       "  </tbody>\n",
       "</table>\n",
       "</div>"
      ],
      "text/plain": [
       "            1. open   2. high    3. low  4. close    5. volume  \\\n",
       "date                                                             \n",
       "2024-01-12   220.08  225.3400  217.1501    218.89  123043812.0   \n",
       "2024-01-11   230.57  230.9300  225.3700    227.22  105873612.0   \n",
       "2024-01-10   235.10  235.5000  231.2900    233.94   91628502.0   \n",
       "2024-01-09   238.11  238.9646  232.0400    234.96   96705664.0   \n",
       "2024-01-08   236.14  241.2500  235.3000    240.45   85166580.0   \n",
       "2024-01-05   236.86  240.1196  234.9001    237.49   92240035.0   \n",
       "2024-01-04   239.25  242.7000  237.7300    237.93  102629283.0   \n",
       "2024-01-03   244.98  245.6800  236.3200    238.45  121082599.0   \n",
       "2024-01-02   250.08  251.2500  244.4100    248.42  104654163.0   \n",
       "2023-12-29   255.10  255.1900  247.4300    248.48  100891578.0   \n",
       "2023-12-28   263.66  265.1300  252.7100    253.18  113619943.0   \n",
       "2023-12-27   258.35  263.3400  257.5200    261.44  105853348.0   \n",
       "2023-12-26   254.49  257.9700  252.9100    256.61   86892382.0   \n",
       "2023-12-22   256.76  258.2200  251.3700    252.54   93370094.0   \n",
       "2023-12-21   251.90  254.7999  248.5500    254.50  109594227.0   \n",
       "2023-12-20   256.41  259.8400  247.0000    247.14  125096987.0   \n",
       "2023-12-19   253.48  258.3399  253.0100    257.22  106287276.0   \n",
       "2023-12-18   253.78  258.7400  251.3600    252.08  116416490.0   \n",
       "2023-12-15   251.21  254.1300  248.3000    253.50  135932762.0   \n",
       "2023-12-14   241.22  253.8800  240.7900    251.05  160829239.0   \n",
       "2023-12-13   234.19  240.3000  228.2000    239.29  146286348.0   \n",
       "2023-12-12   238.55  238.9900  233.8700    237.01   95328313.0   \n",
       "2023-12-11   242.74  243.4410  237.4500    239.74   97913888.0   \n",
       "2023-12-08   240.27  245.2700  239.2701    243.84  103126829.0   \n",
       "2023-12-07   241.55  244.0800  236.9800    242.64  107142262.0   \n",
       "2023-12-06   242.92  246.5700  239.1709    239.37  125905295.0   \n",
       "2023-12-05   233.87  246.6600  233.7000    238.72  137971115.0   \n",
       "2023-12-04   235.75  239.3733  233.2902    235.58  104099817.0   \n",
       "2023-12-01   233.14  240.1900  231.9000    238.83  121331709.0   \n",
       "2023-11-30   245.14  245.2200  236.9100    240.08  132353196.0   \n",
       "2023-11-29   249.21  252.7500  242.7600    244.14  135401335.0   \n",
       "\n",
       "            Open:30 days rolling  \n",
       "date                              \n",
       "2024-01-12                   NaN  \n",
       "2024-01-11                   NaN  \n",
       "2024-01-10                   NaN  \n",
       "2024-01-09                   NaN  \n",
       "2024-01-08                   NaN  \n",
       "2024-01-05                   NaN  \n",
       "2024-01-04                   NaN  \n",
       "2024-01-03                   NaN  \n",
       "2024-01-02                   NaN  \n",
       "2023-12-29                   NaN  \n",
       "2023-12-28                   NaN  \n",
       "2023-12-27                   NaN  \n",
       "2023-12-26                   NaN  \n",
       "2023-12-22                   NaN  \n",
       "2023-12-21                   NaN  \n",
       "2023-12-20                   NaN  \n",
       "2023-12-19                   NaN  \n",
       "2023-12-18                   NaN  \n",
       "2023-12-15                   NaN  \n",
       "2023-12-14                   NaN  \n",
       "2023-12-13                   NaN  \n",
       "2023-12-12                   NaN  \n",
       "2023-12-11                   NaN  \n",
       "2023-12-08                   NaN  \n",
       "2023-12-07                   NaN  \n",
       "2023-12-06                   NaN  \n",
       "2023-12-05                   NaN  \n",
       "2023-12-04                   NaN  \n",
       "2023-12-01                   NaN  \n",
       "2023-11-30               243.855  \n",
       "2023-11-29               244.826  "
      ]
     },
     "execution_count": 72,
     "metadata": {},
     "output_type": "execute_result"
    }
   ],
   "source": [
    "df_tesla.head(31)"
   ]
  },
  {
   "cell_type": "code",
   "execution_count": 73,
   "metadata": {},
   "outputs": [
    {
     "data": {
      "text/plain": [
       "<AxesSubplot: xlabel='date'>"
      ]
     },
     "execution_count": 73,
     "metadata": {},
     "output_type": "execute_result"
    },
    {
     "data": {
      "image/png": "[encoded data removed]",
      "text/plain": [
       "<Figure size 864x360 with 1 Axes>"
      ]
     },
     "metadata": {
      "needs_background": "light"
     },
     "output_type": "display_data"
    }
   ],
   "source": [
    "df_tesla[['1. open','Open:30 days rolling']].plot(figsize=(12,5))"
   ]
  },
  {
   "cell_type": "code",
   "execution_count": null,
   "metadata": {},
   "outputs": [],
   "source": []
  }
 ],
 "metadata": {
  "kernelspec": {
   "display_name": "Python 3",
   "language": "python",
   "name": "python3"
  },
  "language_info": {
   "codemirror_mode": {
    "name": "ipython",
    "version": 3
   },
   "file_extension": ".py",
   "mimetype": "text/x-python",
   "name": "python",
   "nbconvert_exporter": "python",
   "pygments_lexer": "ipython3",
   "version": "3.10.6"
  },
  "orig_nbformat": 4
 },
 "nbformat": 4,
 "nbformat_minor": 2
}
